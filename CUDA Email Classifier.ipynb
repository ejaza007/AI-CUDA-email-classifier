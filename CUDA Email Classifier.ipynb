{
  "nbformat": 4,
  "nbformat_minor": 0,
  "metadata": {
    "colab": {
      "provenance": []
    },
    "kernelspec": {
      "name": "python3",
      "display_name": "Python 3"
    },
    "language_info": {
      "name": "python"
    }
  },
  "cells": [
    {
      "cell_type": "code",
      "execution_count": null,
      "metadata": {
        "id": "CXPplb50UoRH"
      },
      "outputs": [],
      "source": [
        "#Upload spam.csv file containing two columns email body and email classification respectively\n",
        "from google.colab import files\n",
        "uploaded = files.upload()"
      ]
    },
    {
      "cell_type": "code",
      "source": [],
      "metadata": {
        "id": "EikSTIyzUqBG"
      },
      "execution_count": null,
      "outputs": []
    },
    {
      "cell_type": "code",
      "execution_count": null,
      "metadata": {
        "colab": {
          "base_uri": "https://localhost:8080/"
        },
        "id": "9WyxPk_lo_E6",
        "outputId": "4179d670-6e18-40f9-e36a-c727294acc42"
      },
      "outputs": [
        {
          "output_type": "stream",
          "name": "stdout",
          "text": [
            "Execution time: 42.610064586 s\n",
            "Prediction: SPAM\n"
          ]
        }
      ],
      "source": [
        "#CUPY PREDICTION\n",
        "import cupy as cp\n",
        "import numpy as np\n",
        "import pandas as pd\n",
        "from sklearn.feature_extraction.text import CountVectorizer\n",
        "import time\n",
        "\n",
        "# Sigmoid function\n",
        "def sigmoid(z):\n",
        "    return 1 / (1 + cp.exp(-z))\n",
        "\n",
        "# Logistic regression using CUDA\n",
        "def logistic_regression(X, y, learning_rate=0.01, num_iterations=1000):\n",
        "    num_samples, num_features = X.shape\n",
        "    weights = cp.zeros(num_features)\n",
        "\n",
        "    for _ in range(num_iterations):\n",
        "        scores = X.dot(weights)\n",
        "        predictions = sigmoid(scores)\n",
        "        errors = predictions - y\n",
        "        gradients = X.T.dot(errors)\n",
        "        weights -= learning_rate * gradients\n",
        "\n",
        "    return weights\n",
        "\n",
        "# Load the email data\n",
        "data = pd.read_csv('spam.csv')\n",
        "\n",
        "# Extract features and target\n",
        "X = data['email'].values\n",
        "y = data['label'].values\n",
        "\n",
        "# Replace missing values with empty strings\n",
        "X = np.where(pd.isnull(X), '', X)\n",
        "\n",
        "# Transfer target to numerical values\n",
        "y = y.astype(np.int32)\n",
        "\n",
        "# Convert features to numerical representation\n",
        "vectorizer = CountVectorizer()\n",
        "X_vectorized = vectorizer.fit_transform(X).toarray()\n",
        "\n",
        "# Transfer data to the GPU\n",
        "X_gpu = cp.asarray(X_vectorized)\n",
        "y_gpu = cp.asarray(y)\n",
        "\n",
        "# Train the logistic regression model using CUDA\n",
        "start = time.time_ns()\n",
        "weights_gpu = logistic_regression(X_gpu, y_gpu)\n",
        "end = time.time_ns()\n",
        "execution_time = (end - start) / 1000000000\n",
        "print(\"Execution time:\", execution_time, \"s\")\n",
        "\n",
        "# Transfer weights back to the CPU\n",
        "weights = cp.asnumpy(weights_gpu)\n",
        "\n",
        "# Example prediction on new email\n",
        "new_email = [\"Get exclusive offers now! Limited time offer!\"]\n",
        "new_email_vectorized = vectorizer.transform(new_email).toarray()\n",
        "new_email_gpu = cp.asarray(new_email_vectorized)\n",
        "prediction_scores = new_email_gpu.dot(cp.asarray(weights))\n",
        "prediction_prob = sigmoid(prediction_scores)\n",
        "prediction = \"SPAM\" if prediction_prob > 0.5 else \"NOT SPAM\"\n",
        "print(\"Prediction:\", prediction)\n",
        "\n"
      ]
    },
    {
      "cell_type": "code",
      "source": [
        "# Example prediction on new email CUPY (Run after making the model once)\n",
        "new_email = [\"I would like to have a meeting with you to discuss our final year project and deep learning course project.\"]\n",
        "new_email_vectorized = vectorizer.transform(new_email).toarray()\n",
        "new_email_gpu = cp.asarray(new_email_vectorized)\n",
        "prediction_scores = new_email_gpu.dot(cp.asarray(weights))\n",
        "prediction_prob = sigmoid(prediction_scores)\n",
        "prediction = 1 if prediction_prob > 0.5 else 0\n",
        "print(\"Prediction:\", prediction)"
      ],
      "metadata": {
        "id": "TxcBqu10U8k4"
      },
      "execution_count": null,
      "outputs": []
    },
    {
      "cell_type": "code",
      "source": [],
      "metadata": {
        "id": "tdt4-7WkVKAM"
      },
      "execution_count": null,
      "outputs": []
    },
    {
      "cell_type": "code",
      "source": [
        "#CUPY ACCURACY TEST\n",
        "import cupy as cp\n",
        "import numpy as np\n",
        "import pandas as pd\n",
        "from sklearn.feature_extraction.text import CountVectorizer\n",
        "import time\n",
        "\n",
        "# Sigmoid function\n",
        "def sigmoid(z):\n",
        "    return 1 / (1 + cp.exp(-z))\n",
        "\n",
        "# Logistic regression using CUDA\n",
        "def logistic_regression(X, y, learning_rate=0.01, num_iterations=1000):\n",
        "    num_samples, num_features = X.shape\n",
        "    weights = cp.zeros(num_features)\n",
        "\n",
        "    for _ in range(num_iterations):\n",
        "        scores = X.dot(weights)\n",
        "        predictions = sigmoid(scores)\n",
        "        errors = predictions - y\n",
        "        gradients = X.T.dot(errors)\n",
        "        weights -= learning_rate * gradients\n",
        "\n",
        "    return weights\n",
        "\n",
        "# Load the email data\n",
        "data = pd.read_csv('spam.csv')\n",
        "\n",
        "# Extract features and target\n",
        "X = data['email'].values\n",
        "y = data['label'].values\n",
        "\n",
        "# Replace missing values with empty strings\n",
        "X = np.where(pd.isnull(X), '', X)\n",
        "\n",
        "# Transfer target to numerical values\n",
        "y = y.astype(np.int32)\n",
        "\n",
        "# Convert features to numerical representation\n",
        "vectorizer = CountVectorizer()\n",
        "X_vectorized = vectorizer.fit_transform(X).toarray()\n",
        "\n",
        "# Define the train-test split ratio\n",
        "test_ratio = 0.2\n",
        "\n",
        "# Generate random indices for splitting the data\n",
        "np.random.seed(12)\n",
        "num_samples = len(X_vectorized)\n",
        "num_test_samples = int(test_ratio * num_samples)\n",
        "test_indices = np.random.choice(num_samples, size=num_test_samples, replace=False)\n",
        "train_indices = np.setdiff1d(np.arange(num_samples), test_indices)\n",
        "\n",
        "# Split the data into training and test sets\n",
        "X_train = X_vectorized[train_indices]\n",
        "y_train = y[train_indices]\n",
        "X_test = X_vectorized[test_indices]\n",
        "y_test = y[test_indices]\n",
        "\n",
        "# Transfer data to the GPU\n",
        "X_train_gpu = cp.asarray(X_train)\n",
        "y_train_gpu = cp.asarray(y_train)\n",
        "X_test_gpu = cp.asarray(X_test)\n",
        "y_test_gpu = cp.asarray(y_test)\n",
        "\n",
        "# Train the logistic regression model using CUDA\n",
        "start = time.time_ns()\n",
        "weights_gpu = logistic_regression(X_train_gpu, y_train_gpu)\n",
        "end = time.time_ns()\n",
        "execution_time = (end - start) / 1000000000\n",
        "print(\"Training execution time:\", execution_time, \"s\")\n",
        "\n",
        "# Transfer weights back to the CPU\n",
        "weights = cp.asnumpy(weights_gpu)\n",
        "\n",
        "# Evaluate on the test set\n",
        "test_scores = X_test_gpu.dot(cp.asarray(weights))\n",
        "test_predictions = sigmoid(test_scores)\n",
        "test_predictions = cp.asnumpy(test_predictions)\n",
        "test_predictions = np.round(test_predictions)\n",
        "\n",
        "accuracy = np.mean(test_predictions == y_test)\n",
        "print(\"Test Accuracy:\", accuracy)\n"
      ],
      "metadata": {
        "colab": {
          "base_uri": "https://localhost:8080/"
        },
        "id": "kHzaB-cj3kXY",
        "outputId": "f5415207-6119-4bd1-a144-14684cc863ba"
      },
      "execution_count": null,
      "outputs": [
        {
          "output_type": "stream",
          "name": "stdout",
          "text": [
            "Training execution time: 29.562222803 s\n",
            "Test Accuracy: 0.975\n"
          ]
        }
      ]
    }
  ]
}